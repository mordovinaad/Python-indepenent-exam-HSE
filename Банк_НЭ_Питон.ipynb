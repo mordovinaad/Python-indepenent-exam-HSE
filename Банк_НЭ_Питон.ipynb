{
  "nbformat": 4,
  "nbformat_minor": 0,
  "metadata": {
    "colab": {
      "provenance": []
    },
    "kernelspec": {
      "name": "python3",
      "display_name": "Python 3"
    },
    "language_info": {
      "name": "python"
    }
  },
  "cells": [
    {
      "cell_type": "markdown",
      "source": [
        "# **Задание А03**"
      ],
      "metadata": {
        "id": "U4TIuGiQ5-hq"
      }
    },
    {
      "cell_type": "markdown",
      "source": [
        "**№1**\n",
        "**Данный код**\n",
        "\n",
        "\n",
        "\n",
        "```\n",
        "[1] words = 'этот памятник тут навсегда'\n",
        "[2] vowels = ауоыиэяюёе ---- нету кавычек\n",
        "[3] counter = 0\n",
        "[4]  \n",
        "[5] for word in words.split():\n",
        "[6]     for letter in word:\n",
        "[7]         if letter in vowels:\n",
        "[8]         counter += 1  ----- нет отступа\n",
        "[9] print(vowels) ---- выводится не та переменная\n",
        "```\n",
        "\n",
        "\n",
        "\n"
      ],
      "metadata": {
        "id": "xRSMd_VHkZu5"
      }
    },
    {
      "cell_type": "code",
      "execution_count": null,
      "metadata": {
        "colab": {
          "base_uri": "https://localhost:8080/"
        },
        "id": "E4gcINf4i6QG",
        "outputId": "6bd4a6ea-7cd1-4c73-a8e2-174939a66888"
      },
      "outputs": [
        {
          "output_type": "stream",
          "name": "stdout",
          "text": [
            "9\n"
          ]
        }
      ],
      "source": [
        "#НУЖНЫЙ КОД\n",
        "words = 'этот памятник тут навсегда'\n",
        "vowels = \"ауоыиэяюёе\"\n",
        "counter = 0\n",
        "\n",
        "for word in words.split():\n",
        "    for letter in word:\n",
        "         if letter in vowels:\n",
        "             counter += 1\n",
        "print(counter)"
      ]
    },
    {
      "cell_type": "markdown",
      "source": [
        "**№2 Данный код**\n",
        "\n",
        "\n",
        "```\n",
        "[1] data = 'битва началась в 1380 году и закончилась в 1391'\n",
        "[2] result = []\n",
        "[3]  \n",
        "[4] for word in data.split(', '): ---- не тот разделитель\n",
        "[5]     if word.isdigit():\n",
        "[6]         result.add(int(word)) ---- нет add., есть append\n",
        "[7] print('Битва длилась {result[1] - result[0]} лет') --- действие входит в кавычки, фигурные скобки не нужны\n",
        "\n",
        "```\n",
        "\n"
      ],
      "metadata": {
        "id": "7Y-okKVmldiR"
      }
    },
    {
      "cell_type": "code",
      "source": [
        "#НУЖНЫЙ КОД\n",
        "data = 'битва началась в 1380 году и закончилась в 1391'\n",
        "result = []\n",
        "\n",
        "for word in data.split(' '):\n",
        "    if word.isdigit():\n",
        "        result.append(int(word))\n",
        "print(\"Битва длилась\", result[1] - result[0], \"лет\")"
      ],
      "metadata": {
        "colab": {
          "base_uri": "https://localhost:8080/"
        },
        "id": "Q8QS6l55mWQg",
        "outputId": "3da5335a-0428-4945-d787-5817b6a9d0e2"
      },
      "execution_count": null,
      "outputs": [
        {
          "output_type": "stream",
          "name": "stdout",
          "text": [
            "Битва длилась 11 лет\n"
          ]
        }
      ]
    },
    {
      "cell_type": "markdown",
      "source": [
        "**№3 Данный код**\n",
        "\n",
        "\n",
        "```\n",
        "[1] numbers = [2, 19, 200, 176, 14, 5]\n",
        "[2]\n",
        "[3] summa = 0\n",
        "[4] for num in numbers:\n",
        "[5]     if num % 2 = 0 ---- должно быть два равно, нету двоеточия\n",
        "[6]         summa += num\n",
        "[7] print(summa)\n",
        "```\n",
        "\n"
      ],
      "metadata": {
        "id": "gIkKdlqJna7w"
      }
    },
    {
      "cell_type": "code",
      "source": [
        "numbers = [2, 19, 200, 176, 14, 5]\n",
        "\n",
        "summa = 0\n",
        "for num in numbers:\n",
        "    if num % 2 == 0:\n",
        "        summa += num\n",
        "print(summa)"
      ],
      "metadata": {
        "colab": {
          "base_uri": "https://localhost:8080/"
        },
        "id": "ObSEsk1PnaED",
        "outputId": "e0793d79-b114-44c9-9978-cbfb510f1bf0"
      },
      "execution_count": null,
      "outputs": [
        {
          "output_type": "stream",
          "name": "stdout",
          "text": [
            "392\n"
          ]
        }
      ]
    },
    {
      "cell_type": "markdown",
      "source": [
        "**№4 Данный код**\n",
        "\n",
        "\n",
        "```\n",
        "[1] password == 'we45rty6183poiu98u' ---- одно равно\n",
        "[2]\n",
        "[3] digits = ''\n",
        "[4] for symbol in password:\n",
        "[5]     if symbol.isdigit():\n",
        "[6]         digits -= symbol ---- минуса никак не может быть\n",
        "[7]     print(digits) ---- лишний отступ\n",
        "```\n",
        "\n"
      ],
      "metadata": {
        "id": "Qt6uw8IBoFPw"
      }
    },
    {
      "cell_type": "code",
      "source": [
        "password = 'we45rty6183poiu98u'\n",
        "\n",
        "digits = ''\n",
        "for symbol in password:\n",
        "    if symbol.isdigit():\n",
        "        digits += symbol\n",
        "print(digits)"
      ],
      "metadata": {
        "colab": {
          "base_uri": "https://localhost:8080/"
        },
        "id": "lWqJVIVeoLJ6",
        "outputId": "61f28bee-c4bf-4513-f170-d62300f0555d"
      },
      "execution_count": null,
      "outputs": [
        {
          "output_type": "stream",
          "name": "stdout",
          "text": [
            "45618398\n"
          ]
        }
      ]
    },
    {
      "cell_type": "markdown",
      "source": [
        "# **Задание А06**"
      ],
      "metadata": {
        "id": "6FIJA8Ou51zE"
      }
    },
    {
      "cell_type": "markdown",
      "source": [
        "**№1 Задание**\n",
        "\n",
        "```\n",
        "[1] ВВОДЯТСЯ (СВОБОДНО) НАЗВАНИЯ КОМПАНИЦ ЧЕРЕЗ ПРОБЕЛ\n",
        "[2] ДЛЯ (ПОЧТИ) КАЖДОЙ КОМПАНИИ ВВОДИТСЯ ПРИМЕРНЫЙ СРОК ДОСТАВКИ\n",
        "[3] ВВОДИТСЯ МАКСИМАЛЬНОЕ КОЛИЧЕСТВО ДНЕЙ ДЛЯ НАС\n",
        "\n",
        "[4] ВЫВОДЯТСЯ НАЗВАНИЯ НУЖНЫХ КОМПАНИЙ (срок доставки <=) ИЛИ НИЧЕГО\n",
        "```\n"
      ],
      "metadata": {
        "id": "xWFzhxcOpm4x"
      }
    },
    {
      "cell_type": "code",
      "source": [
        "company = list(input().split())\n",
        "delivery_days = list(map(int, input().split()))\n",
        "need_days = int(input())\n",
        "\n",
        "need_companies = []\n",
        "\n",
        "for i in range(len(company)):\n",
        "  if delivery_days[i] <= need_days:\n",
        "    print(company[i])"
      ],
      "metadata": {
        "colab": {
          "base_uri": "https://localhost:8080/"
        },
        "id": "OX8tAOJopk-p",
        "outputId": "877193f6-2e77-4d74-8713-e5500f8d90b0"
      },
      "execution_count": null,
      "outputs": [
        {
          "output_type": "stream",
          "name": "stdout",
          "text": [
            "\t Газелька2 Доставочка1 Перевозки007 ЛюбимыйГрузовичок\n",
            "10 9 9 9\n",
            "9\n",
            "Доставочка1\n",
            "Перевозки007\n",
            "ЛюбимыйГрузовичок\n"
          ]
        }
      ]
    },
    {
      "cell_type": "markdown",
      "source": [
        "**№2 Задание**\n",
        "\n",
        "```\n",
        "[1] ВВОДЯТСЯ НАЗВАНИЯ СТРАН ЧЕРЕЗ ПРОБЕЛ\n",
        "[2] ВВОДИТСЯ ИХ ВВП ЧЕРЕЗ ПРОБЕЛ (ВЕЩЕСТВЕННЫЕ ЧИСЛА)\n",
        "[3] ВВОДИТСЯ МИНИМАЛЬНО НУЖНЫЙ ВВП\n",
        "\n",
        "[4] ВЫВОДЯТСЯ СТРАНЫ НОРМАЛЬНО, ОТДЕЛЬНО\n",
        "```"
      ],
      "metadata": {
        "id": "XJ7_Ls9Kpqz4"
      }
    },
    {
      "cell_type": "code",
      "source": [
        "countries = list(input().split())\n",
        "vvp = list(map(float, input().split()))\n",
        "need_vvp = float(input())\n",
        "\n",
        "need_countries = []\n",
        "\n",
        "for i in range(len(countries)):\n",
        "  if vvp[i] >= need_vvp:\n",
        "    print(countries[i])"
      ],
      "metadata": {
        "colab": {
          "base_uri": "https://localhost:8080/"
        },
        "id": "K8ioJx30pwWk",
        "outputId": "8fa2d4e3-094c-4f86-c2d4-853a4240c372"
      },
      "execution_count": null,
      "outputs": [
        {
          "output_type": "stream",
          "name": "stdout",
          "text": [
            "Норвегия Финляндия Франция Мальта\n",
            "92.646 50.818 42.330 32.912\n",
            "50.000\n",
            "Норвегия\n",
            "Финляндия\n"
          ]
        }
      ]
    },
    {
      "cell_type": "markdown",
      "source": [
        "**№3 Задание**\n",
        "\n",
        "```\n",
        "[1] ВВОДИТСЯ ГОДА ЧЕРЕЗ ПРОБЕЛ\n",
        "[2] ВВОДИТСЯ СТОЛЕТИЕ, КОТОРОЕ НАМ НУЖНО\n",
        "\n",
        "[3] ВЫВОДИТСЯ КОЛИЧЕСТВО ПОДХОДЯЩИХ ГОДОВ\n",
        "```"
      ],
      "metadata": {
        "id": "eoeSJZmjpwnW"
      }
    },
    {
      "cell_type": "code",
      "source": [
        "years = list(map(int, input().split()))\n",
        "need_century = int(input())\n",
        "\n",
        "counter = 0\n",
        "\n",
        "for i in range(len(years)):\n",
        "  if years[i] // 100 + 1 == need_century or years[i] / 1000 == need_century / 10:\n",
        "        counter+=1\n",
        "\n",
        "print(counter)"
      ],
      "metadata": {
        "colab": {
          "base_uri": "https://localhost:8080/"
        },
        "id": "odRNnvXzpy4W",
        "outputId": "d2c1e34c-258c-4b5e-8945-14c5db324987"
      },
      "execution_count": null,
      "outputs": [
        {
          "output_type": "stream",
          "name": "stdout",
          "text": [
            "1499 1500 1501\n",
            "15\n",
            "2\n"
          ]
        }
      ]
    },
    {
      "cell_type": "markdown",
      "source": [
        "**№4 Задание**\n",
        "\n",
        "```\n",
        "[1] ВВОДИТСЯ \"НАЗВАНИЕ КАРТИНЫ - ЦЕНА, \"\n",
        "\n",
        "[2] ВЫВОДЯТСЯ НАЗВАНИЯ ТЕХ КАРТИН, КОТОРЫЕ МОЖНО ПОЛУЧИТЬ БЕЗ СДАЧИ (РАСПЛАЧИВАЮТСЯ БУМАЖКОЙ В 500р). В АЛФАВИТНОМ ПОРЯДКЕ ЧЕРЕЗ ЗАПЯТУЮ И ПРОБЕЛ\n",
        "```"
      ],
      "metadata": {
        "id": "MMlbuwmppzEo"
      }
    },
    {
      "cell_type": "code",
      "source": [
        "paitings = input().split(', ')\n",
        "\n",
        "need_paitings= []\n",
        "\n",
        "for i in paitings:\n",
        "  i = i.split(' - ')\n",
        "  name = i[0]\n",
        "  price = int(i[1])\n",
        "\n",
        "  if price % 500 == 0:\n",
        "    need_paitings.append(name)\n",
        "\n",
        "print(*sorted(need_paitings), sep = ', ')"
      ],
      "metadata": {
        "colab": {
          "base_uri": "https://localhost:8080/"
        },
        "id": "zI_DayZCp0XA",
        "outputId": "ea9dce67-7f21-400e-db03-cfffbeeaeec7"
      },
      "execution_count": 57,
      "outputs": [
        {
          "output_type": "stream",
          "name": "stdout",
          "text": [
            "Черный квадрат - 23000, Версаль - 14550, Осень - 12990, Ночь - 17000, Девятый вал - 25000\n",
            "Девятый вал, Ночь, Черный квадрат\n"
          ]
        }
      ]
    }
  ]
}